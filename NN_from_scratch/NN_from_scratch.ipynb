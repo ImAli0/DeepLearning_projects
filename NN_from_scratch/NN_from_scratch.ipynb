{
  "cells": [
    {
      "cell_type": "markdown",
      "metadata": {
        "id": "view-in-github",
        "colab_type": "text"
      },
      "source": [
        "<a href=\"https://colab.research.google.com/github/ImAli0/DeepLearning_projects/blob/main/NN_from_scratch/NN_from_scratch.ipynb\" target=\"_parent\"><img src=\"https://colab.research.google.com/assets/colab-badge.svg\" alt=\"Open In Colab\"/></a>"
      ]
    },
    {
      "cell_type": "markdown",
      "metadata": {
        "id": "58iHGta8OPGj"
      },
      "source": [
        "# Neural Network from Scratch in TensorFlow"
      ]
    },
    {
      "cell_type": "markdown",
      "metadata": {
        "id": "Bwh6GlGuOPGo"
      },
      "source": [
        "#Introduction and Importing Libraries"
      ]
    },
    {
      "cell_type": "code",
      "execution_count": 1,
      "metadata": {
        "id": "yX2xtiYnOPGp",
        "outputId": "8fd7bf7e-95d4-4ce1-a7a5-c9e81169b292",
        "colab": {
          "base_uri": "https://localhost:8080/"
        }
      },
      "outputs": [
        {
          "output_type": "stream",
          "name": "stdout",
          "text": [
            "TensorFlow Version: 2.15.0\n"
          ]
        }
      ],
      "source": [
        "import tensorflow as tf\n",
        "import numpy as np\n",
        "import matplotlib.pyplot as plt\n",
        "import nn_utils\n",
        "%matplotlib inline\n",
        "\n",
        "print('TensorFlow Version:', tf.__version__)"
      ]
    },
    {
      "cell_type": "markdown",
      "metadata": {
        "id": "7yld7iOzOPGs"
      },
      "source": [
        "#Neural Network"
      ]
    },
    {
      "cell_type": "code",
      "execution_count": 2,
      "metadata": {
        "id": "wyakx4S_OPGu"
      },
      "outputs": [],
      "source": [
        "class NeuralNetwork:\n",
        "\n",
        "    # INITIALIZING\n",
        "    def __init__(self, layers):\n",
        "        self.layers = layers\n",
        "        self.L = len(layers)\n",
        "        self.num_features = layers[0]\n",
        "        self.num_classes = layers[-1]\n",
        "\n",
        "        self.W = {}\n",
        "        self.b = {}\n",
        "\n",
        "        self.dW = {}\n",
        "        self.db = {}\n",
        "\n",
        "        self.setup()\n",
        "\n",
        "    def setup(self):\n",
        "\n",
        "        for i in range(1, self.L):\n",
        "          # Applying 'He' initialization to prevent the issue of\n",
        "          # vanishing/exploding gradients in deep nets on  W parameter\n",
        "            self.W[i] = tf.Variable(np.random.randn(self.layers[i],\n",
        "                          self.layers[i-1]) * np.sqrt(2. / self.layers[i-1]),\n",
        "                                    dtype = np.float32)\n",
        "            self.b[i] = tf.Variable(tf.zeros(shape=(self.layers[i], 1)))\n",
        "\n",
        "    # FORWARD PROPAGATING\n",
        "    def forward_prop(self, A):\n",
        "        A = tf.convert_to_tensor(A, dtype=tf.float32)\n",
        "        for i in range(1, self.L):\n",
        "            Z = tf.matmul(A, tf.transpose(self.W[i])) + tf.transpose(self.b[i])\n",
        "            if  i != self.L - 1 :\n",
        "                A = tf.nn.relu(Z)\n",
        "            else:\n",
        "                A = Z\n",
        "        return A\n",
        "\n",
        "    # LOSS COMPUTING\n",
        "    def compute_loss(self, A, Y):\n",
        "        loss = tf.nn.softmax_cross_entropy_with_logits(Y, A)\n",
        "        return tf.reduce_mean(loss)\n",
        "\n",
        "    # PARAMETER UPDATING\n",
        "    def update_params(self, lr):\n",
        "        for i in range(1, self.L):\n",
        "            self.W[i].assign_sub(lr * self.dW[i])\n",
        "            self.b[i].assign_sub(lr * self.db[i])\n",
        "\n",
        "    # PREDICTING\n",
        "    def predict(self, X):\n",
        "        A = self.forward_prop(X)\n",
        "        return tf.argmax(tf.nn.softmax(A), axis=1)\n",
        "\n",
        "    # INFO ON NN's STRUCTURE\n",
        "    def info(self):\n",
        "        num_params = 0\n",
        "        for i in range(1, self.L):\n",
        "            num_params += self.W[i].shape[0] * self.W[i].shape[1]\n",
        "            num_params += self.b[i].shape[0]\n",
        "        print('Input Features:', self.num_features)\n",
        "        print('Number of Classes:', self.num_classes)\n",
        "        print('Hidden Layers:')\n",
        "        print('--------------')\n",
        "        for i in range(1, self.L-1):\n",
        "            print('Layer {}, Units {}'.format(i, self.layers[i]))\n",
        "        print('--------------')\n",
        "        print('Number of parameters:', num_params)\n",
        "\n",
        "    # BATCH TRAINING\n",
        "    def train_on_batch(self, X, Y, lr):\n",
        "        X = tf.convert_to_tensor(X, dtype = tf.float32)\n",
        "        Y = tf.convert_to_tensor(Y, dtype = tf.float32)\n",
        "\n",
        "        with tf.GradientTape(persistent = True) as tape:\n",
        "            A = self.forward_prop(X)\n",
        "            loss = self.compute_loss(A, Y)\n",
        "\n",
        "        for i in range (1, self.L):\n",
        "            self.dW[i] = tape.gradient(loss, self.W[i])\n",
        "            self.db[i] = tape.gradient(loss, self.b[i])\n",
        "\n",
        "        del tape\n",
        "        self.update_params(lr)\n",
        "        return loss.numpy()\n",
        "\n",
        "    # COMPLETE TRAINING\n",
        "    def train(self, x_train, y_train, x_test, y_test, epochs, steps_per_epoch,\n",
        "              batch_size, lr):\n",
        "        history = {'val_loss': [], 'train_loss': [], 'val_acc': [],\n",
        "                   'train_acc': []}\n",
        "\n",
        "        for e in range(0, epochs):\n",
        "            epoch_train_loss = 0.\n",
        "            print('Epoch {}'.format(e), end = ' ')\n",
        "            for i in range(0, steps_per_epoch):\n",
        "                x_batch = x_train[i * batch_size : (i + 1) * batch_size]\n",
        "                y_batch = y_train[i * batch_size : (i + 1) * batch_size]\n",
        "\n",
        "                batch_loss = self.train_on_batch(x_batch, y_batch, lr)\n",
        "                epoch_train_loss += batch_loss\n",
        "\n",
        "                if i%int(steps_per_epoch/10) == 0:\n",
        "                    print(end='=')\n",
        "\n",
        "            train_loss = epoch_train_loss/steps_per_epoch\n",
        "            history['train_loss'].append(train_loss)\n",
        "            val_A = self.forward_prop(x_test)\n",
        "            train_A = self.forward_prop(x_train)\n",
        "            val_loss = self.compute_loss(val_A, y_test).numpy()\n",
        "            history['val_loss'].append(val_loss)\n",
        "            val_preds = self.predict(x_test)\n",
        "            train_preds = self.predict(x_train)\n",
        "            val_acc = np.sum(np.argmax(y_test, axis = 1) ==\n",
        "                             val_preds.numpy())/len(y_test)\n",
        "            train_acc = np.mean(np.argmax(y_train, axis = 1) ==\n",
        "                                train_preds.numpy())\n",
        "            history['val_acc'].append(val_acc)\n",
        "            history['train_acc'].append(train_acc)\n",
        "            print(' \\n Train loss', train_loss)\n",
        "            print(' Val loss', val_loss)\n",
        "            print(' Train acc', train_acc)\n",
        "            print(' Val acc', val_acc)\n",
        "        return history"
      ]
    },
    {
      "cell_type": "markdown",
      "metadata": {
        "id": "7F9m4PJKOPG7"
      },
      "source": [
        "#Application"
      ]
    },
    {
      "cell_type": "code",
      "execution_count": 3,
      "metadata": {
        "id": "0rQHekRpOPG7",
        "outputId": "92fe784a-eb47-4d5f-c443-2fbeadf8efa8",
        "colab": {
          "base_uri": "https://localhost:8080/",
          "height": 436
        }
      },
      "outputs": [
        {
          "output_type": "stream",
          "name": "stdout",
          "text": [
            "Downloading data from https://storage.googleapis.com/tensorflow/tf-keras-datasets/mnist.npz\n",
            "11490434/11490434 [==============================] - 0s 0us/step\n"
          ]
        },
        {
          "output_type": "display_data",
          "data": {
            "text/plain": [
              "<Figure size 1000x500 with 10 Axes>"
            ],
            "image/png": "[encoded data removed]"
          },
          "metadata": {}
        }
      ],
      "source": [
        "(x_train, y_train), (x_test, y_test) = nn_utils.load_data()\n",
        "nn_utils.plot_random_examples(x_train, y_train).show()"
      ]
    },
    {
      "cell_type": "code",
      "execution_count": 4,
      "metadata": {
        "id": "r4swPLSCOPG8",
        "outputId": "4040115a-d21d-48da-b2fd-c1605c6aa843",
        "colab": {
          "base_uri": "https://localhost:8080/"
        }
      },
      "outputs": [
        {
          "output_type": "stream",
          "name": "stdout",
          "text": [
            "Input Features: 784\n",
            "Number of Classes: 10\n",
            "Hidden Layers:\n",
            "--------------\n",
            "Layer 1, Units 256\n",
            "Layer 2, Units 128\n",
            "Layer 3, Units 128\n",
            "Layer 4, Units 64\n",
            "Layer 5, Units 32\n",
            "--------------\n",
            "Number of parameters: 261034\n"
          ]
        }
      ],
      "source": [
        "net = NeuralNetwork([784, 256, 128, 128, 64, 32, 10])\n",
        "net.info()"
      ]
    },
    {
      "cell_type": "code",
      "execution_count": 5,
      "metadata": {
        "id": "cFja3n-2OPG9",
        "colab": {
          "base_uri": "https://localhost:8080/"
        },
        "outputId": "9f9d3dd6-0053-48c6-86af-54ac989c969e"
      },
      "outputs": [
        {
          "output_type": "stream",
          "name": "stdout",
          "text": [
            "Steps per epoch 468\n"
          ]
        }
      ],
      "source": [
        "batch_size = 128\n",
        "epochs = 50\n",
        "steps_per_epoch = int(x_train.shape[0]/batch_size)\n",
        "lr = 3e-3\n",
        "print('Steps per epoch', steps_per_epoch)"
      ]
    },
    {
      "cell_type": "code",
      "execution_count": 6,
      "metadata": {
        "id": "YdbCJ9feOPG-",
        "outputId": "53e2e2d9-a2f7-4eae-e7eb-a6822b2f6696",
        "colab": {
          "base_uri": "https://localhost:8080/"
        }
      },
      "outputs": [
        {
          "output_type": "stream",
          "name": "stdout",
          "text": [
            "Epoch 0 =========== \n",
            " Train loss 2.016247714177156\n",
            " Val loss 1.5119156\n",
            " Train acc 0.5945166666666667\n",
            " Val acc 0.5979\n",
            "Epoch 1 =========== \n",
            " Train loss 0.9863408425042772\n",
            " Val loss 0.6122602\n",
            " Train acc 0.8285333333333333\n",
            " Val acc 0.8351\n",
            "Epoch 2 =========== \n",
            " Train loss 0.5221093591207113\n",
            " Val loss 0.42424873\n",
            " Train acc 0.8733\n",
            " Val acc 0.8774\n",
            "Epoch 3 =========== \n",
            " Train loss 0.4013596542784546\n",
            " Val loss 0.3550559\n",
            " Train acc 0.8925\n",
            " Val acc 0.8962\n",
            "Epoch 4 =========== \n",
            " Train loss 0.344532132276103\n",
            " Val loss 0.31700245\n",
            " Train acc 0.90305\n",
            " Val acc 0.9064\n",
            "Epoch 5 =========== \n",
            " Train loss 0.30923852572838467\n",
            " Val loss 0.29159072\n",
            " Train acc 0.9114166666666667\n",
            " Val acc 0.9156\n",
            "Epoch 6 =========== \n",
            " Train loss 0.28371108435571957\n",
            " Val loss 0.27205294\n",
            " Train acc 0.9177666666666666\n",
            " Val acc 0.9191\n",
            "Epoch 7 =========== \n",
            " Train loss 0.2638783853612522\n",
            " Val loss 0.25636196\n",
            " Train acc 0.9229833333333334\n",
            " Val acc 0.9225\n",
            "Epoch 8 =========== \n",
            " Train loss 0.24766248191555595\n",
            " Val loss 0.24323057\n",
            " Train acc 0.9272\n",
            " Val acc 0.928\n",
            "Epoch 9 =========== \n",
            " Train loss 0.23403043404985696\n",
            " Val loss 0.2324278\n",
            " Train acc 0.9306666666666666\n",
            " Val acc 0.9322\n",
            "Epoch 10 =========== \n",
            " Train loss 0.22219218853383493\n",
            " Val loss 0.22323187\n",
            " Train acc 0.9341166666666667\n",
            " Val acc 0.9346\n",
            "Epoch 11 =========== \n",
            " Train loss 0.2118093135854245\n",
            " Val loss 0.21465644\n",
            " Train acc 0.9371666666666667\n",
            " Val acc 0.9375\n",
            "Epoch 12 =========== \n",
            " Train loss 0.20258665002054638\n",
            " Val loss 0.20741196\n",
            " Train acc 0.9398833333333333\n",
            " Val acc 0.9394\n",
            "Epoch 13 =========== \n",
            " Train loss 0.1942743649149043\n",
            " Val loss 0.20050167\n",
            " Train acc 0.9424333333333333\n",
            " Val acc 0.9405\n",
            "Epoch 14 =========== \n",
            " Train loss 0.1867611311439775\n",
            " Val loss 0.19412422\n",
            " Train acc 0.9447\n",
            " Val acc 0.9421\n",
            "Epoch 15 =========== \n",
            " Train loss 0.17986611565017802\n",
            " Val loss 0.18819419\n",
            " Train acc 0.9467166666666667\n",
            " Val acc 0.944\n",
            "Epoch 16 =========== \n",
            " Train loss 0.17354487174819422\n",
            " Val loss 0.1830604\n",
            " Train acc 0.9487166666666667\n",
            " Val acc 0.945\n",
            "Epoch 17 =========== \n",
            " Train loss 0.16770862107380077\n",
            " Val loss 0.1784925\n",
            " Train acc 0.9503\n",
            " Val acc 0.9459\n",
            "Epoch 18 =========== \n",
            " Train loss 0.1622944943423773\n",
            " Val loss 0.17396961\n",
            " Train acc 0.9521\n",
            " Val acc 0.9478\n",
            "Epoch 19 =========== \n",
            " Train loss 0.15721458552054998\n",
            " Val loss 0.16965963\n",
            " Train acc 0.95375\n",
            " Val acc 0.9482\n",
            "Epoch 20 =========== \n",
            " Train loss 0.15250299759527558\n",
            " Val loss 0.16580442\n",
            " Train acc 0.9550333333333333\n",
            " Val acc 0.9496\n",
            "Epoch 21 =========== \n",
            " Train loss 0.14806262442332685\n",
            " Val loss 0.16218877\n",
            " Train acc 0.9565333333333333\n",
            " Val acc 0.9508\n",
            "Epoch 22 =========== \n",
            " Train loss 0.14387603271274996\n",
            " Val loss 0.15882884\n",
            " Train acc 0.9577833333333333\n",
            " Val acc 0.952\n",
            "Epoch 23 =========== \n",
            " Train loss 0.1399394599800436\n",
            " Val loss 0.15570083\n",
            " Train acc 0.9588166666666667\n",
            " Val acc 0.9526\n",
            "Epoch 24 =========== \n",
            " Train loss 0.1361639167333388\n",
            " Val loss 0.15273157\n",
            " Train acc 0.9600666666666666\n",
            " Val acc 0.9537\n",
            "Epoch 25 =========== \n",
            " Train loss 0.13259051686439377\n",
            " Val loss 0.14999415\n",
            " Train acc 0.9610833333333333\n",
            " Val acc 0.9541\n",
            "Epoch 26 =========== \n",
            " Train loss 0.12918838096034324\n",
            " Val loss 0.14735578\n",
            " Train acc 0.9622\n",
            " Val acc 0.9555\n",
            "Epoch 27 =========== \n",
            " Train loss 0.12593014574108216\n",
            " Val loss 0.14490007\n",
            " Train acc 0.9632666666666667\n",
            " Val acc 0.9565\n",
            "Epoch 28 =========== \n",
            " Train loss 0.12284510012747896\n",
            " Val loss 0.14251146\n",
            " Train acc 0.9643333333333334\n",
            " Val acc 0.9569\n",
            "Epoch 29 =========== \n",
            " Train loss 0.11989098048617697\n",
            " Val loss 0.14033918\n",
            " Train acc 0.9650166666666666\n",
            " Val acc 0.9578\n",
            "Epoch 30 =========== \n",
            " Train loss 0.11706299097555825\n",
            " Val loss 0.13824533\n",
            " Train acc 0.96575\n",
            " Val acc 0.9584\n",
            "Epoch 31 =========== \n",
            " Train loss 0.11434470142962204\n",
            " Val loss 0.13627203\n",
            " Train acc 0.9667166666666667\n",
            " Val acc 0.9591\n",
            "Epoch 32 =========== \n",
            " Train loss 0.11174620736517712\n",
            " Val loss 0.1343428\n",
            " Train acc 0.9674666666666667\n",
            " Val acc 0.9599\n",
            "Epoch 33 =========== \n",
            " Train loss 0.10923312856163034\n",
            " Val loss 0.13258395\n",
            " Train acc 0.9681\n",
            " Val acc 0.9601\n",
            "Epoch 34 =========== \n",
            " Train loss 0.10681733654008016\n",
            " Val loss 0.13090919\n",
            " Train acc 0.9687666666666667\n",
            " Val acc 0.9606\n",
            "Epoch 35 =========== \n",
            " Train loss 0.10449097193896961\n",
            " Val loss 0.12925176\n",
            " Train acc 0.96945\n",
            " Val acc 0.9607\n",
            "Epoch 36 =========== \n",
            " Train loss 0.10223783375735147\n",
            " Val loss 0.1277496\n",
            " Train acc 0.9701833333333333\n",
            " Val acc 0.9612\n",
            "Epoch 37 =========== \n",
            " Train loss 0.10006553285484576\n",
            " Val loss 0.12639493\n",
            " Train acc 0.9709166666666667\n",
            " Val acc 0.9614\n",
            "Epoch 38 =========== \n",
            " Train loss 0.09797827625233266\n",
            " Val loss 0.12499657\n",
            " Train acc 0.9715166666666667\n",
            " Val acc 0.9616\n",
            "Epoch 39 =========== \n",
            " Train loss 0.09593085709433907\n",
            " Val loss 0.12372836\n",
            " Train acc 0.97225\n",
            " Val acc 0.9618\n",
            "Epoch 40 =========== \n",
            " Train loss 0.09395778942335811\n",
            " Val loss 0.122476175\n",
            " Train acc 0.97265\n",
            " Val acc 0.9622\n",
            "Epoch 41 =========== \n",
            " Train loss 0.09203046925652486\n",
            " Val loss 0.12127859\n",
            " Train acc 0.9731\n",
            " Val acc 0.9624\n",
            "Epoch 42 =========== \n",
            " Train loss 0.0901569086047383\n",
            " Val loss 0.12013723\n",
            " Train acc 0.9738166666666667\n",
            " Val acc 0.963\n",
            "Epoch 43 =========== \n",
            " Train loss 0.0883537702775823\n",
            " Val loss 0.11898877\n",
            " Train acc 0.9744333333333334\n",
            " Val acc 0.9632\n",
            "Epoch 44 =========== \n",
            " Train loss 0.08659430294751357\n",
            " Val loss 0.117950685\n",
            " Train acc 0.97495\n",
            " Val acc 0.9639\n",
            "Epoch 45 =========== \n",
            " Train loss 0.08487265901520658\n",
            " Val loss 0.116889834\n",
            " Train acc 0.9755333333333334\n",
            " Val acc 0.964\n",
            "Epoch 46 =========== \n",
            " Train loss 0.08320430017665474\n",
            " Val loss 0.115839526\n",
            " Train acc 0.9760833333333333\n",
            " Val acc 0.9643\n",
            "Epoch 47 =========== \n",
            " Train loss 0.08157803948459208\n",
            " Val loss 0.11485646\n",
            " Train acc 0.9765833333333334\n",
            " Val acc 0.9644\n",
            "Epoch 48 =========== \n",
            " Train loss 0.07999288370140278\n",
            " Val loss 0.11397142\n",
            " Train acc 0.9769833333333333\n",
            " Val acc 0.9648\n",
            "Epoch 49 =========== \n",
            " Train loss 0.07844412799837051\n",
            " Val loss 0.11305374\n",
            " Train acc 0.9774333333333334\n",
            " Val acc 0.965\n"
          ]
        }
      ],
      "source": [
        "history = net.train(x_train, y_train, x_test, y_test, epochs, steps_per_epoch,\n",
        "                    batch_size, lr)"
      ]
    },
    {
      "cell_type": "markdown",
      "metadata": {
        "id": "n70pL6rmOPG_"
      },
      "source": [
        "# Results"
      ]
    },
    {
      "cell_type": "code",
      "source": [
        "nn_utils.plot_results(history).show()"
      ],
      "metadata": {
        "id": "fud5VEPa95xg",
        "colab": {
          "base_uri": "https://localhost:8080/",
          "height": 388
        },
        "outputId": "4e434dc8-b445-4bfc-d502-590b10906d77"
      },
      "execution_count": 9,
      "outputs": [
        {
          "output_type": "display_data",
          "data": {
            "text/plain": [
              "<Figure size 1200x400 with 2 Axes>"
            ],
            "image/png": "[encoded data removed]"
          },
          "metadata": {}
        }
      ]
    },
    {
      "cell_type": "code",
      "source": [
        "preds = net.predict(x_test)"
      ],
      "metadata": {
        "id": "yzM113fy36ii"
      },
      "execution_count": 10,
      "outputs": []
    },
    {
      "cell_type": "code",
      "source": [
        "nn_utils.plot_random_examples(x_test, y_test, preds.numpy()).show()"
      ],
      "metadata": {
        "colab": {
          "base_uri": "https://localhost:8080/",
          "height": 400
        },
        "id": "1zUNBXv039Zv",
        "outputId": "af5b7415-3c62-4cee-b707-3b7617034925"
      },
      "execution_count": 11,
      "outputs": [
        {
          "output_type": "display_data",
          "data": {
            "text/plain": [
              "<Figure size 1000x500 with 10 Axes>"
            ],
            "image/png": "[encoded data removed]"
          },
          "metadata": {}
        }
      ]
    }
  ],
  "metadata": {
    "kernelspec": {
      "display_name": "Python 3",
      "name": "python3"
    },
    "language_info": {
      "codemirror_mode": {
        "name": "ipython",
        "version": 3
      },
      "file_extension": ".py",
      "mimetype": "text/x-python",
      "name": "python",
      "nbconvert_exporter": "python",
      "pygments_lexer": "ipython3",
      "version": "3.7.0"
    },
    "colab": {
      "provenance": [],
      "gpuType": "V28",
      "include_colab_link": true
    },
    "accelerator": "TPU"
  },
  "nbformat": 4,
  "nbformat_minor": 0
}